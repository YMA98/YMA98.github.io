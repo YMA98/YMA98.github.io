{
 "cells": [
  {
   "cell_type": "markdown",
   "id": "fe67c138",
   "metadata": {},
   "source": [
    "# Final Project Part 2\n",
    "## Group members: Rocky Ma, Carol Lu, Yifan Wang"
   ]
  },
  {
   "cell_type": "markdown",
   "id": "e956b8b6",
   "metadata": {},
   "source": [
    "## Introduction\n",
    "\n",
    "Crime is a significant issue that affects communities worldwide, and the city of Los Angeles is no exception. According to the Los Angeles Police Department (LAPD), there were over 210,000 reported crimes in the city in 2020 alone, ranging from theft and robbery to assault and homicide. The impact of crime on communities is far-reaching, from personal trauma to economic costs, and it is crucial to understand its distribution and trends to address it effectively.\n",
    "\n",
    "To this end, our team has undertaken a data visualization project on crime in Los Angeles City, utilizing a dataset representing the incidents of crime in the city dating back to 2020. To make the data more manageable, we narrowed our focus to the years 2023 and beyond, reducing the number of rows from 700,000 to 60,000. Through our project, we aim to provide insights into the distribution and patterns of crime in LA City, allowing for better decision-making and policy implementation."
   ]
  },
  {
   "cell_type": "markdown",
   "id": "9e056566",
   "metadata": {},
   "source": [
    "## Dashboard\n",
    "\n",
    "Our dashboard comprises two main components: the left section showcases a plot that displays the age, descent, and sex of victims population, while the right section presents the count of criminal records grouped by area names of the city.\n",
    "\n",
    "The left section of the dashboard focuses on the demographics of crime victims, providing an insight into who is most vulnerable to crime with different colors representing different demographic groups. By selecting a particular area, users can view the specific number of criminal records connected to the selected victim group, and distributions in different areas. This interactivity makes it easier to compare the demographics of victims in different ages, descent, gender between different regions of the city."
   ]
  },
  {
   "cell_type": "markdown",
   "id": "2344f9f6",
   "metadata": {},
   "source": [
    "### Dataset Size\n",
    "The original dataset includes the crime data from LAPD from 2020 to present and is about 178MB. However, our group decide to focus on the crime data in 2023 to provide the latest analysis, so the actual dataset is only about 17MB. We don't have to worry about the Github upload limit. "
   ]
  },
  {
   "cell_type": "code",
   "execution_count": null,
   "id": "27a0100b",
   "metadata": {},
   "outputs": [],
   "source": [
    "import pandas as pd\n",
    "import altair as alt\n",
    "import seaborn as sns\n",
    "import geopandas"
   ]
  },
  {
   "cell_type": "code",
   "execution_count": null,
   "id": "66cdfcd2",
   "metadata": {},
   "outputs": [],
   "source": [
    "la_crime = pd.read_csv(\"https://data.lacity.org/api/views/2nrs-mtv8/rows.csv?accessType=DOWNLOAD\")\n",
    "la_crime.head()"
   ]
  },
  {
   "cell_type": "code",
   "execution_count": null,
   "id": "fb18ef25",
   "metadata": {},
   "outputs": [],
   "source": [
    "la_crime['Date Rptd'] =  pd.to_datetime(la_crime['Date Rptd'])\n",
    "la_crime = la_crime[(la_crime['Date Rptd'] > '2023-01-01') & (la_crime['Vict Sex']!='H')]"
   ]
  },
  {
   "cell_type": "code",
   "execution_count": null,
   "id": "8156c5ee",
   "metadata": {},
   "outputs": [],
   "source": [
    "la_crime.info()"
   ]
  },
  {
   "cell_type": "code",
   "execution_count": null,
   "id": "3b96fe4d",
   "metadata": {},
   "outputs": [],
   "source": [
    "la_crime.nunique()"
   ]
  },
  {
   "cell_type": "code",
   "execution_count": null,
   "id": "60f00f68",
   "metadata": {},
   "outputs": [],
   "source": [
    "# Disable Max Rows check\n",
    "alt.data_transformers.disable_max_rows()"
   ]
  },
  {
   "cell_type": "code",
   "execution_count": null,
   "id": "f7ecf47f",
   "metadata": {
    "scrolled": true
   },
   "outputs": [],
   "source": [
    "la_status_chart = alt.Chart(la_crime).mark_line().encode(\n",
    "    alt.X('Date Rptd:T', title = 'Date Reported'),\n",
    "    alt.Y('count():Q'),\n",
    "    alt.Color('Status Desc:N',title = 'Status Description')\n",
    ")"
   ]
  },
  {
   "cell_type": "code",
   "execution_count": null,
   "id": "564c73ce",
   "metadata": {},
   "outputs": [],
   "source": [
    "# Save chart\n",
    "#la_status_chart.save('la_status_chart.json')"
   ]
  },
  {
   "cell_type": "code",
   "execution_count": null,
   "id": "0470cfd3",
   "metadata": {
    "scrolled": false
   },
   "outputs": [],
   "source": [
    "# Build Dashboard\n",
    "brush = alt.selection_interval(encodings=['x','y'])\n",
    "\n",
    "area = alt.Chart(la_crime).mark_bar().encode(\n",
    "    x = alt.X('AREA NAME:N'),\n",
    "    y = alt.Y('count():Q'),\n",
    ").transform_filter(\n",
    "    brush\n",
    ")\n",
    "\n",
    "vict = alt.Chart(la_crime).mark_point(shape='stroke').encode(\n",
    "    alt.X('Vict Descent:N', title = 'Victim Descent'),\n",
    "    alt.Y('Vict Age:Q', title = 'Victim Age'),\n",
    "    color='Vict Sex'\n",
    ").properties(\n",
    "    width=550,\n",
    "    height=300\n",
    ").add_selection(\n",
    "brush\n",
    ")\n",
    "\n",
    "dash = vict.properties(width=400) | area.properties(width=400)\n",
    "\n",
    "dash"
   ]
  },
  {
   "cell_type": "code",
   "execution_count": null,
   "id": "4df65f40",
   "metadata": {},
   "outputs": [],
   "source": [
    "# Save Dashboard\n",
    "#dash.save('dash.json')"
   ]
  },
  {
   "cell_type": "code",
   "execution_count": null,
   "id": "e2ba3b39",
   "metadata": {},
   "outputs": [],
   "source": [
    "# Save transformed dataset\n",
    "#la_crime.to_csv('la_crime_2023.csv')"
   ]
  },
  {
   "cell_type": "markdown",
   "id": "4aeaf5d1",
   "metadata": {},
   "source": [
    "## Contextual Dataset\n",
    "URL: https://data.cityofnewyork.us/api/views/833y-fsy8/rows.csv?accessType=DOWNLOAD\n",
    "Name of the dataset: NYPD Shooting Incident Data\n",
    "\n",
    "This dataset contains information on all shooting incidents that have taken place in New York City from 2006 until the end of the previous calendar year. The data is collected quarterly and reviewed by the Office of Management Analysis and Planning before being made available on the NYPD website. Each record in the dataset represents a specific shooting incident and includes details about when and where it occurred. It also includes information about the demographics of both the victim and the suspect. This dataset can be used by the public to gain insights into patterns and trends related to criminal activity involving firearms. \n",
    "\n",
    "We have two plots below. The first one is also interactive and contains two parts. The heat map shows the relationship between victims and perpetrators and categorize them in different race. When you click the square, it show the area of the incidents happening. The second one shows the number of shootings from 2006 to 2022 by areas in New York City."
   ]
  },
  {
   "cell_type": "code",
   "execution_count": null,
   "id": "f5a78d61",
   "metadata": {},
   "outputs": [],
   "source": [
    "# Load contextual dataset\n",
    "nyc_shoot = pd.read_csv(\"https://data.cityofnewyork.us/api/views/833y-fsy8/rows.csv?accessType=DOWNLOAD\")\n",
    "nyc_shoot.head()"
   ]
  },
  {
   "cell_type": "code",
   "execution_count": null,
   "id": "7d215186",
   "metadata": {},
   "outputs": [],
   "source": [
    "nyc_shoot.info()"
   ]
  },
  {
   "cell_type": "code",
   "execution_count": null,
   "id": "0f67adf2",
   "metadata": {
    "scrolled": true
   },
   "outputs": [],
   "source": [
    "nyc_shoot.nunique()"
   ]
  },
  {
   "cell_type": "code",
   "execution_count": null,
   "id": "acf365d9",
   "metadata": {},
   "outputs": [],
   "source": [
    "click = alt.selection_single(encodings=['x','y'])\n",
    "\n",
    "nyc_area = alt.Chart(nyc_shoot).mark_bar().encode(\n",
    "    alt.Y('BORO:N', title = 'Area'),\n",
    "    alt.X('count():Q'),\n",
    "    color = alt.Color('BORO:N', title = 'Area')\n",
    ").transform_filter(\n",
    "    click\n",
    ")\n",
    "\n",
    "race = alt.Chart(nyc_shoot).mark_rect().encode(\n",
    "    alt.X('PERP_RACE:N', title = 'Perpetrator Race'),\n",
    "    alt.Y('VIC_RACE:N', title = 'Victim Race'),\n",
    "    color='count():Q'\n",
    ").add_selection(\n",
    "    click\n",
    ")\n",
    "\n",
    "nyc_dash = nyc_area.properties(height = 150) & race.properties(width = 250, height = 250)\n",
    "nyc_dash"
   ]
  },
  {
   "cell_type": "code",
   "execution_count": null,
   "id": "a2e860b9",
   "metadata": {},
   "outputs": [],
   "source": [
    "# Save Dashboard\n",
    "#nyc_dash.save('nyc_dash.json')"
   ]
  },
  {
   "cell_type": "code",
   "execution_count": null,
   "id": "a9aeecb2",
   "metadata": {},
   "outputs": [],
   "source": [
    "# Extract Year\n",
    "nyc_shoot['OCCUR_DATE'] =  pd.to_datetime(nyc_shoot['OCCUR_DATE'])\n",
    "nyc_shoot['Year'] = nyc_shoot['OCCUR_DATE'].dt.year"
   ]
  },
  {
   "cell_type": "code",
   "execution_count": null,
   "id": "e6b323a0",
   "metadata": {
    "scrolled": true
   },
   "outputs": [],
   "source": [
    "nyc_year_chart = alt.Chart(nyc_shoot).encode(\n",
    "    alt.X('Year:N'),\n",
    "    alt.Y('count():Q'),\n",
    "    alt.Color('BORO:N', title='Area')\n",
    ").mark_bar().properties(title='Number of Shoots from 2006 to 2022 by Area').properties(\n",
    "    width = 600,\n",
    "    height = 400\n",
    ")"
   ]
  },
  {
   "cell_type": "code",
   "execution_count": null,
   "id": "b215b14d",
   "metadata": {},
   "outputs": [],
   "source": [
    "nyc_year_chart"
   ]
  },
  {
   "cell_type": "code",
   "execution_count": null,
   "id": "66707a6c",
   "metadata": {},
   "outputs": [],
   "source": [
    "# Save nyc_year_chart\n",
    "#nyc_year_chart.save('nyc_year_chart.json')"
   ]
  },
  {
   "cell_type": "markdown",
   "id": "d88a88d1",
   "metadata": {},
   "source": [
    "## Conclusion\n",
    "\n",
    "When people are thinking where to live, safety is usually considered to be one of the most important factors. So, we found out a way to evaluate whether a city is dangerous or not through crime data. We chose LA city data as an example to make an interactive visualization plot showing the crime situation of the city. The result showed many useful information and let us learn the importance of data visualization in real world."
   ]
  }
 ],
 "metadata": {
  "kernelspec": {
   "display_name": "Python 3 (ipykernel)",
   "language": "python",
   "name": "python3"
  },
  "language_info": {
   "codemirror_mode": {
    "name": "ipython",
    "version": 3
   },
   "file_extension": ".py",
   "mimetype": "text/x-python",
   "name": "python",
   "nbconvert_exporter": "python",
   "pygments_lexer": "ipython3",
   "version": "3.7.12"
  }
 },
 "nbformat": 4,
 "nbformat_minor": 5
}
