{
 "cells": [
  {
   "cell_type": "markdown",
   "id": "fe67c138",
   "metadata": {},
   "source": [
    "# Final Project Part 2\n",
    "## Group members: Rocky Ma, Carol Lu, Yifan Wang"
   ]
  },
  {
   "cell_type": "markdown",
   "id": "e956b8b6",
   "metadata": {},
   "source": [
    "## Introduction\n",
    "\n",
    "Crime is a significant issue that affects communities worldwide, and the city of Los Angeles is no exception. According to the Los Angeles Police Department (LAPD), there were over 210,000 reported crimes in the city in 2020 alone, ranging from theft and robbery to assault and homicide. The impact of crime on communities is far-reaching, from personal trauma to economic costs, and it is crucial to understand its distribution and trends to address it effectively.\n",
    "\n",
    "To this end, our team has undertaken a data visualization project on crime in Los Angeles City, utilizing a dataset representing the incidents of crime in the city dating back to 2020. To make the data more manageable, we narrowed our focus to the years 2023 and beyond, reducing the number of rows from 700,000 to 60,000. Through our project, we aim to provide insights into the distribution and patterns of crime in LA City, allowing for better decision-making and policy implementation."
   ]
  },
  {
   "cell_type": "markdown",
   "id": "9e056566",
   "metadata": {},
   "source": [
    "## Dashboard\n",
    "\n",
    "Our dashboard comprises two main components: the left section showcases a plot that displays the age, descent, and sex of victims population, while the right section presents the count of criminal records grouped by area names of the city.\n",
    "\n",
    "The left section of the dashboard focuses on the demographics of crime victims, providing an insight into who is most vulnerable to crime with different colors representing different demographic groups. By selecting a particular area, users can view the specific number of criminal records connected to the selected victim group, and distributions in different areas. This interactivity makes it easier to compare the demographics of victims in different ages, descent, gender between different regions of the city."
   ]
  },
  {
   "cell_type": "markdown",
   "id": "2344f9f6",
   "metadata": {},
   "source": [
    "### Dataset Size\n",
    "The original dataset includes the crime data from LAPD from 2020 to present and is about 178MB. However, our group decide to focus on the crime data in 2023 to provide the latest analysis, so the actual dataset is only about 17MB. We don't have to worry about the Github upload limit. "
   ]
  },
  {
   "cell_type": "code",
   "execution_count": 2,
   "id": "27a0100b",
   "metadata": {},
   "outputs": [],
   "source": [
    "import pandas as pd\n",
    "import altair as alt\n",
    "import seaborn as sns\n",
    "import geopandas"
   ]
  },
  {
   "cell_type": "code",
   "execution_count": 3,
   "id": "66cdfcd2",
   "metadata": {},
   "outputs": [
    {
     "data": {
      "text/html": [
       "<div>\n",
       "<style scoped>\n",
       "    .dataframe tbody tr th:only-of-type {\n",
       "        vertical-align: middle;\n",
       "    }\n",
       "\n",
       "    .dataframe tbody tr th {\n",
       "        vertical-align: top;\n",
       "    }\n",
       "\n",
       "    .dataframe thead th {\n",
       "        text-align: right;\n",
       "    }\n",
       "</style>\n",
       "<table border=\"1\" class=\"dataframe\">\n",
       "  <thead>\n",
       "    <tr style=\"text-align: right;\">\n",
       "      <th></th>\n",
       "      <th>DR_NO</th>\n",
       "      <th>Date Rptd</th>\n",
       "      <th>DATE OCC</th>\n",
       "      <th>TIME OCC</th>\n",
       "      <th>AREA</th>\n",
       "      <th>AREA NAME</th>\n",
       "      <th>Rpt Dist No</th>\n",
       "      <th>Part 1-2</th>\n",
       "      <th>Crm Cd</th>\n",
       "      <th>Crm Cd Desc</th>\n",
       "      <th>...</th>\n",
       "      <th>Status</th>\n",
       "      <th>Status Desc</th>\n",
       "      <th>Crm Cd 1</th>\n",
       "      <th>Crm Cd 2</th>\n",
       "      <th>Crm Cd 3</th>\n",
       "      <th>Crm Cd 4</th>\n",
       "      <th>LOCATION</th>\n",
       "      <th>Cross Street</th>\n",
       "      <th>LAT</th>\n",
       "      <th>LON</th>\n",
       "    </tr>\n",
       "  </thead>\n",
       "  <tbody>\n",
       "    <tr>\n",
       "      <th>0</th>\n",
       "      <td>10304468</td>\n",
       "      <td>01/08/2020 12:00:00 AM</td>\n",
       "      <td>01/08/2020 12:00:00 AM</td>\n",
       "      <td>2230</td>\n",
       "      <td>3</td>\n",
       "      <td>Southwest</td>\n",
       "      <td>377</td>\n",
       "      <td>2</td>\n",
       "      <td>624</td>\n",
       "      <td>BATTERY - SIMPLE ASSAULT</td>\n",
       "      <td>...</td>\n",
       "      <td>AO</td>\n",
       "      <td>Adult Other</td>\n",
       "      <td>624.0</td>\n",
       "      <td>NaN</td>\n",
       "      <td>NaN</td>\n",
       "      <td>NaN</td>\n",
       "      <td>1100 W  39TH                         PL</td>\n",
       "      <td>NaN</td>\n",
       "      <td>34.0141</td>\n",
       "      <td>-118.2978</td>\n",
       "    </tr>\n",
       "    <tr>\n",
       "      <th>1</th>\n",
       "      <td>190101086</td>\n",
       "      <td>01/02/2020 12:00:00 AM</td>\n",
       "      <td>01/01/2020 12:00:00 AM</td>\n",
       "      <td>330</td>\n",
       "      <td>1</td>\n",
       "      <td>Central</td>\n",
       "      <td>163</td>\n",
       "      <td>2</td>\n",
       "      <td>624</td>\n",
       "      <td>BATTERY - SIMPLE ASSAULT</td>\n",
       "      <td>...</td>\n",
       "      <td>IC</td>\n",
       "      <td>Invest Cont</td>\n",
       "      <td>624.0</td>\n",
       "      <td>NaN</td>\n",
       "      <td>NaN</td>\n",
       "      <td>NaN</td>\n",
       "      <td>700 S  HILL                         ST</td>\n",
       "      <td>NaN</td>\n",
       "      <td>34.0459</td>\n",
       "      <td>-118.2545</td>\n",
       "    </tr>\n",
       "    <tr>\n",
       "      <th>2</th>\n",
       "      <td>200110444</td>\n",
       "      <td>04/14/2020 12:00:00 AM</td>\n",
       "      <td>02/13/2020 12:00:00 AM</td>\n",
       "      <td>1200</td>\n",
       "      <td>1</td>\n",
       "      <td>Central</td>\n",
       "      <td>155</td>\n",
       "      <td>2</td>\n",
       "      <td>845</td>\n",
       "      <td>SEX OFFENDER REGISTRANT OUT OF COMPLIANCE</td>\n",
       "      <td>...</td>\n",
       "      <td>AA</td>\n",
       "      <td>Adult Arrest</td>\n",
       "      <td>845.0</td>\n",
       "      <td>NaN</td>\n",
       "      <td>NaN</td>\n",
       "      <td>NaN</td>\n",
       "      <td>200 E  6TH                          ST</td>\n",
       "      <td>NaN</td>\n",
       "      <td>34.0448</td>\n",
       "      <td>-118.2474</td>\n",
       "    </tr>\n",
       "    <tr>\n",
       "      <th>3</th>\n",
       "      <td>191501505</td>\n",
       "      <td>01/01/2020 12:00:00 AM</td>\n",
       "      <td>01/01/2020 12:00:00 AM</td>\n",
       "      <td>1730</td>\n",
       "      <td>15</td>\n",
       "      <td>N Hollywood</td>\n",
       "      <td>1543</td>\n",
       "      <td>2</td>\n",
       "      <td>745</td>\n",
       "      <td>VANDALISM - MISDEAMEANOR ($399 OR UNDER)</td>\n",
       "      <td>...</td>\n",
       "      <td>IC</td>\n",
       "      <td>Invest Cont</td>\n",
       "      <td>745.0</td>\n",
       "      <td>998.0</td>\n",
       "      <td>NaN</td>\n",
       "      <td>NaN</td>\n",
       "      <td>5400    CORTEEN                      PL</td>\n",
       "      <td>NaN</td>\n",
       "      <td>34.1685</td>\n",
       "      <td>-118.4019</td>\n",
       "    </tr>\n",
       "    <tr>\n",
       "      <th>4</th>\n",
       "      <td>191921269</td>\n",
       "      <td>01/01/2020 12:00:00 AM</td>\n",
       "      <td>01/01/2020 12:00:00 AM</td>\n",
       "      <td>415</td>\n",
       "      <td>19</td>\n",
       "      <td>Mission</td>\n",
       "      <td>1998</td>\n",
       "      <td>2</td>\n",
       "      <td>740</td>\n",
       "      <td>VANDALISM - FELONY ($400 &amp; OVER, ALL CHURCH VA...</td>\n",
       "      <td>...</td>\n",
       "      <td>IC</td>\n",
       "      <td>Invest Cont</td>\n",
       "      <td>740.0</td>\n",
       "      <td>NaN</td>\n",
       "      <td>NaN</td>\n",
       "      <td>NaN</td>\n",
       "      <td>14400    TITUS                        ST</td>\n",
       "      <td>NaN</td>\n",
       "      <td>34.2198</td>\n",
       "      <td>-118.4468</td>\n",
       "    </tr>\n",
       "  </tbody>\n",
       "</table>\n",
       "<p>5 rows × 28 columns</p>\n",
       "</div>"
      ],
      "text/plain": [
       "       DR_NO               Date Rptd                DATE OCC  TIME OCC  AREA  \\\n",
       "0   10304468  01/08/2020 12:00:00 AM  01/08/2020 12:00:00 AM      2230     3   \n",
       "1  190101086  01/02/2020 12:00:00 AM  01/01/2020 12:00:00 AM       330     1   \n",
       "2  200110444  04/14/2020 12:00:00 AM  02/13/2020 12:00:00 AM      1200     1   \n",
       "3  191501505  01/01/2020 12:00:00 AM  01/01/2020 12:00:00 AM      1730    15   \n",
       "4  191921269  01/01/2020 12:00:00 AM  01/01/2020 12:00:00 AM       415    19   \n",
       "\n",
       "     AREA NAME  Rpt Dist No  Part 1-2  Crm Cd  \\\n",
       "0    Southwest          377         2     624   \n",
       "1      Central          163         2     624   \n",
       "2      Central          155         2     845   \n",
       "3  N Hollywood         1543         2     745   \n",
       "4      Mission         1998         2     740   \n",
       "\n",
       "                                         Crm Cd Desc  ... Status  \\\n",
       "0                           BATTERY - SIMPLE ASSAULT  ...     AO   \n",
       "1                           BATTERY - SIMPLE ASSAULT  ...     IC   \n",
       "2          SEX OFFENDER REGISTRANT OUT OF COMPLIANCE  ...     AA   \n",
       "3           VANDALISM - MISDEAMEANOR ($399 OR UNDER)  ...     IC   \n",
       "4  VANDALISM - FELONY ($400 & OVER, ALL CHURCH VA...  ...     IC   \n",
       "\n",
       "    Status Desc Crm Cd 1 Crm Cd 2  Crm Cd 3 Crm Cd 4  \\\n",
       "0   Adult Other    624.0      NaN       NaN      NaN   \n",
       "1   Invest Cont    624.0      NaN       NaN      NaN   \n",
       "2  Adult Arrest    845.0      NaN       NaN      NaN   \n",
       "3   Invest Cont    745.0    998.0       NaN      NaN   \n",
       "4   Invest Cont    740.0      NaN       NaN      NaN   \n",
       "\n",
       "                                   LOCATION Cross Street      LAT       LON  \n",
       "0   1100 W  39TH                         PL          NaN  34.0141 -118.2978  \n",
       "1    700 S  HILL                         ST          NaN  34.0459 -118.2545  \n",
       "2    200 E  6TH                          ST          NaN  34.0448 -118.2474  \n",
       "3   5400    CORTEEN                      PL          NaN  34.1685 -118.4019  \n",
       "4  14400    TITUS                        ST          NaN  34.2198 -118.4468  \n",
       "\n",
       "[5 rows x 28 columns]"
      ]
     },
     "execution_count": 3,
     "metadata": {},
     "output_type": "execute_result"
    }
   ],
   "source": [
    "la_crime = pd.read_csv(\"https://data.lacity.org/api/views/2nrs-mtv8/rows.csv?accessType=DOWNLOAD\")\n",
    "la_crime.head()"
   ]
  },
  {
   "cell_type": "code",
   "execution_count": 4,
   "id": "fb18ef25",
   "metadata": {},
   "outputs": [],
   "source": [
    "la_crime['Date Rptd'] =  pd.to_datetime(la_crime['Date Rptd'])\n",
    "la_crime = la_crime[(la_crime['Date Rptd'] > '2023-01-01') & (la_crime['Vict Sex']!='H')]"
   ]
  },
  {
   "cell_type": "code",
   "execution_count": 5,
   "id": "8156c5ee",
   "metadata": {},
   "outputs": [
    {
     "name": "stdout",
     "output_type": "stream",
     "text": [
      "<class 'pandas.core.frame.DataFrame'>\n",
      "Int64Index: 71493 entries, 148620 to 708083\n",
      "Data columns (total 28 columns):\n",
      " #   Column          Non-Null Count  Dtype         \n",
      "---  ------          --------------  -----         \n",
      " 0   DR_NO           71493 non-null  int64         \n",
      " 1   Date Rptd       71493 non-null  datetime64[ns]\n",
      " 2   DATE OCC        71493 non-null  object        \n",
      " 3   TIME OCC        71493 non-null  int64         \n",
      " 4   AREA            71493 non-null  int64         \n",
      " 5   AREA NAME       71493 non-null  object        \n",
      " 6   Rpt Dist No     71493 non-null  int64         \n",
      " 7   Part 1-2        71493 non-null  int64         \n",
      " 8   Crm Cd          71493 non-null  int64         \n",
      " 9   Crm Cd Desc     71493 non-null  object        \n",
      " 10  Mocodes         61694 non-null  object        \n",
      " 11  Vict Age        71493 non-null  int64         \n",
      " 12  Vict Sex        62131 non-null  object        \n",
      " 13  Vict Descent    62129 non-null  object        \n",
      " 14  Premis Cd       71493 non-null  float64       \n",
      " 15  Premis Desc     71413 non-null  object        \n",
      " 16  Weapon Used Cd  22637 non-null  float64       \n",
      " 17  Weapon Desc     22637 non-null  object        \n",
      " 18  Status          71493 non-null  object        \n",
      " 19  Status Desc     71493 non-null  object        \n",
      " 20  Crm Cd 1        71491 non-null  float64       \n",
      " 21  Crm Cd 2        4575 non-null   float64       \n",
      " 22  Crm Cd 3        146 non-null    float64       \n",
      " 23  Crm Cd 4        6 non-null      float64       \n",
      " 24  LOCATION        71493 non-null  object        \n",
      " 25  Cross Street    9304 non-null   object        \n",
      " 26  LAT             71493 non-null  float64       \n",
      " 27  LON             71493 non-null  float64       \n",
      "dtypes: datetime64[ns](1), float64(8), int64(7), object(12)\n",
      "memory usage: 15.8+ MB\n"
     ]
    }
   ],
   "source": [
    "la_crime.info()"
   ]
  },
  {
   "cell_type": "code",
   "execution_count": null,
   "id": "3b96fe4d",
   "metadata": {},
   "outputs": [],
   "source": [
    "la_crime.nunique()"
   ]
  },
  {
   "cell_type": "code",
   "execution_count": null,
   "id": "60f00f68",
   "metadata": {},
   "outputs": [],
   "source": [
    "# Disable Max Rows check\n",
    "alt.data_transformers.disable_max_rows()"
   ]
  },
  {
   "cell_type": "code",
   "execution_count": null,
   "id": "f7ecf47f",
   "metadata": {
    "scrolled": true
   },
   "outputs": [],
   "source": [
    "la_status_chart = alt.Chart(la_crime).mark_line().encode(\n",
    "    alt.X('Date Rptd:T', title = 'Date Reported'),\n",
    "    alt.Y('count():Q'),\n",
    "    alt.Color('Status Desc:N',title = 'Status Description')\n",
    ")"
   ]
  },
  {
   "cell_type": "code",
   "execution_count": null,
   "id": "564c73ce",
   "metadata": {},
   "outputs": [],
   "source": [
    "# Save chart\n",
    "#la_status_chart.save('la_status_chart.json')"
   ]
  },
  {
   "cell_type": "code",
   "execution_count": null,
   "id": "0470cfd3",
   "metadata": {
    "scrolled": false
   },
   "outputs": [],
   "source": [
    "# Build Dashboard\n",
    "brush = alt.selection_interval(encodings=['x','y'])\n",
    "\n",
    "area = alt.Chart(la_crime).mark_bar().encode(\n",
    "    x = alt.X('AREA NAME:N'),\n",
    "    y = alt.Y('count():Q'),\n",
    ").transform_filter(\n",
    "    brush\n",
    ")\n",
    "\n",
    "vict = alt.Chart(la_crime).mark_point(shape='stroke').encode(\n",
    "    alt.X('Vict Descent:N', title = 'Victim Descent'),\n",
    "    alt.Y('Vict Age:Q', title = 'Victim Age'),\n",
    "    color='Vict Sex'\n",
    ").properties(\n",
    "    width=550,\n",
    "    height=300\n",
    ").add_selection(\n",
    "brush\n",
    ")\n",
    "\n",
    "dash = vict.properties(width=400) | area.properties(width=400)\n",
    "\n",
    "dash"
   ]
  },
  {
   "cell_type": "code",
   "execution_count": null,
   "id": "4df65f40",
   "metadata": {},
   "outputs": [],
   "source": [
    "# Save Dashboard\n",
    "#dash.save('dash.json')"
   ]
  },
  {
   "cell_type": "code",
   "execution_count": null,
   "id": "e2ba3b39",
   "metadata": {},
   "outputs": [],
   "source": [
    "# Save transformed dataset\n",
    "#la_crime.to_csv('la_crime_2023.csv')"
   ]
  },
  {
   "cell_type": "markdown",
   "id": "4aeaf5d1",
   "metadata": {},
   "source": [
    "## Contextual Dataset\n",
    "URL: https://data.cityofnewyork.us/api/views/833y-fsy8/rows.csv?accessType=DOWNLOAD\n",
    "Name of the dataset: NYPD Shooting Incident Data\n",
    "\n",
    "This dataset contains information on all shooting incidents that have taken place in New York City from 2006 until the end of the previous calendar year. The data is collected quarterly and reviewed by the Office of Management Analysis and Planning before being made available on the NYPD website. Each record in the dataset represents a specific shooting incident and includes details about when and where it occurred. It also includes information about the demographics of both the victim and the suspect. This dataset can be used by the public to gain insights into patterns and trends related to criminal activity involving firearms. \n",
    "\n",
    "We have two plots below. The first one is also interactive and contains two parts. The heat map shows the relationship between victims and perpetrators and categorize them in different race. When you click the square, it show the area of the incidents happening. The second one shows the number of shootings from 2006 to 2022 by areas in New York City."
   ]
  },
  {
   "cell_type": "code",
   "execution_count": null,
   "id": "f5a78d61",
   "metadata": {},
   "outputs": [],
   "source": [
    "# Load contextual dataset\n",
    "nyc_shoot = pd.read_csv(\"https://data.cityofnewyork.us/api/views/833y-fsy8/rows.csv?accessType=DOWNLOAD\")\n",
    "nyc_shoot.head()"
   ]
  },
  {
   "cell_type": "code",
   "execution_count": null,
   "id": "7d215186",
   "metadata": {},
   "outputs": [],
   "source": [
    "nyc_shoot.info()"
   ]
  },
  {
   "cell_type": "code",
   "execution_count": null,
   "id": "0f67adf2",
   "metadata": {
    "scrolled": true
   },
   "outputs": [],
   "source": [
    "nyc_shoot.nunique()"
   ]
  },
  {
   "cell_type": "code",
   "execution_count": null,
   "id": "acf365d9",
   "metadata": {},
   "outputs": [],
   "source": [
    "click = alt.selection_single(encodings=['x','y'])\n",
    "\n",
    "nyc_area = alt.Chart(nyc_shoot).mark_bar().encode(\n",
    "    alt.Y('BORO:N', title = 'Area'),\n",
    "    alt.X('count():Q'),\n",
    "    color = alt.Color('BORO:N', title = 'Area')\n",
    ").transform_filter(\n",
    "    click\n",
    ")\n",
    "\n",
    "race = alt.Chart(nyc_shoot).mark_rect().encode(\n",
    "    alt.X('PERP_RACE:N', title = 'Perpetrator Race'),\n",
    "    alt.Y('VIC_RACE:N', title = 'Victim Race'),\n",
    "    color='count():Q'\n",
    ").add_selection(\n",
    "    click\n",
    ")\n",
    "\n",
    "nyc_dash = nyc_area.properties(height = 150) & race.properties(width = 250, height = 250)\n",
    "nyc_dash"
   ]
  },
  {
   "cell_type": "code",
   "execution_count": null,
   "id": "a2e860b9",
   "metadata": {},
   "outputs": [],
   "source": [
    "# Save Dashboard\n",
    "#nyc_dash.save('nyc_dash.json')"
   ]
  },
  {
   "cell_type": "code",
   "execution_count": null,
   "id": "a9aeecb2",
   "metadata": {},
   "outputs": [],
   "source": [
    "# Extract Year\n",
    "nyc_shoot['OCCUR_DATE'] =  pd.to_datetime(nyc_shoot['OCCUR_DATE'])\n",
    "nyc_shoot['Year'] = nyc_shoot['OCCUR_DATE'].dt.year"
   ]
  },
  {
   "cell_type": "code",
   "execution_count": null,
   "id": "e6b323a0",
   "metadata": {
    "scrolled": true
   },
   "outputs": [],
   "source": [
    "nyc_year_chart = alt.Chart(nyc_shoot).encode(\n",
    "    alt.X('Year:N'),\n",
    "    alt.Y('count():Q'),\n",
    "    alt.Color('BORO:N', title='Area')\n",
    ").mark_bar().properties(title='Number of Shoots from 2006 to 2022 by Area').properties(\n",
    "    width = 600,\n",
    "    height = 400\n",
    ")"
   ]
  },
  {
   "cell_type": "code",
   "execution_count": null,
   "id": "b215b14d",
   "metadata": {},
   "outputs": [],
   "source": [
    "nyc_year_chart"
   ]
  },
  {
   "cell_type": "code",
   "execution_count": null,
   "id": "66707a6c",
   "metadata": {},
   "outputs": [],
   "source": [
    "# Save nyc_year_chart\n",
    "#nyc_year_chart.save('nyc_year_chart.json')"
   ]
  },
  {
   "cell_type": "markdown",
   "id": "d88a88d1",
   "metadata": {},
   "source": [
    "## Conclusion\n",
    "\n",
    "When people are thinking where to live, safety is usually considered to be one of the most important factors. So, we found out a way to evaluate whether a city is dangerous or not through crime data. We chose LA city data as an example to make an interactive visualization plot showing the crime situation of the city. The result showed many useful information and let us learn the importance of data visualization in real world."
   ]
  }
 ],
 "metadata": {
  "kernelspec": {
   "display_name": "Python 3 (ipykernel)",
   "language": "python",
   "name": "python3"
  },
  "language_info": {
   "codemirror_mode": {
    "name": "ipython",
    "version": 3
   },
   "file_extension": ".py",
   "mimetype": "text/x-python",
   "name": "python",
   "nbconvert_exporter": "python",
   "pygments_lexer": "ipython3",
   "version": "3.7.12"
  }
 },
 "nbformat": 4,
 "nbformat_minor": 5
}
